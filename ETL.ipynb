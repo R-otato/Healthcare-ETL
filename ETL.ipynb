{
 "cells": [
  {
   "cell_type": "markdown",
   "id": "483ac132",
   "metadata": {},
   "source": [
    "# Healthcare ETL\n"
   ]
  },
  {
   "cell_type": "code",
   "execution_count": 1,
   "id": "06a6d0d6",
   "metadata": {},
   "outputs": [],
   "source": [
    "#Import packages\n",
    "import pandas as pd"
   ]
  },
  {
   "cell_type": "code",
   "execution_count": null,
   "id": "a1a73a7b",
   "metadata": {},
   "outputs": [],
   "source": [
    "#Load datasets\n",
    "df=pd.read_csv('./data/hr_data_new.csv')"
   ]
  }
 ],
 "metadata": {
  "kernelspec": {
   "display_name": "Python 3.9.12 ('base')",
   "language": "python",
   "name": "python3"
  },
  "language_info": {
   "codemirror_mode": {
    "name": "ipython",
    "version": 3
   },
   "file_extension": ".py",
   "mimetype": "text/x-python",
   "name": "python",
   "nbconvert_exporter": "python",
   "pygments_lexer": "ipython3",
   "version": "3.9.12"
  },
  "vscode": {
   "interpreter": {
    "hash": "6f5583cf1d9466b5c27e75c89cc6b383bed5736d6b16c51c8074d8690011a952"
   }
  }
 },
 "nbformat": 4,
 "nbformat_minor": 5
}
